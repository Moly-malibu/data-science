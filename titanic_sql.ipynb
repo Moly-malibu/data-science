{
  "nbformat": 4,
  "nbformat_minor": 0,
  "metadata": {
    "colab": {
      "name": "titanic_sql.ipynb",
      "provenance": [],
      "collapsed_sections": [],
      "include_colab_link": true
    },
    "kernelspec": {
      "name": "python3",
      "display_name": "Python 3"
    }
  },
  "cells": [
    {
      "cell_type": "markdown",
      "metadata": {
        "id": "view-in-github",
        "colab_type": "text"
      },
      "source": [
        "<a href=\"https://colab.research.google.com/github/Moly-malibu/data-science/blob/master/titanic_sql.ipynb\" target=\"_parent\"><img src=\"https://colab.research.google.com/assets/colab-badge.svg\" alt=\"Open In Colab\"/></a>"
      ]
    },
    {
      "cell_type": "code",
      "metadata": {
        "id": "SC2fXeokicMd",
        "colab_type": "code",
        "colab": {}
      },
      "source": [
        "import sqlite3\n",
        "import pandas as pd\n",
        "import seaborn as sns\n",
        "import psycopg2"
      ],
      "execution_count": 0,
      "outputs": []
    },
    {
      "cell_type": "markdown",
      "metadata": {
        "id": "8OoQg8suj9Lo",
        "colab_type": "text"
      },
      "source": [
        "# Load the data"
      ]
    },
    {
      "cell_type": "code",
      "metadata": {
        "id": "TTWZ0JZyp4Yv",
        "colab_type": "code",
        "outputId": "053a01df-c608-43e1-faf0-94973189bd63",
        "colab": {
          "base_uri": "https://localhost:8080/",
          "height": 265
        }
      },
      "source": [
        "df = pd.read_csv(\"https://raw.githubusercontent.com/LambdaSchool/DS-Unit-3-Sprint-2-SQL-and-Databases/master/module2-sql-for-analysis/titanic.csv\")\n",
        "df.head"
      ],
      "execution_count": 4,
      "outputs": [
        {
          "output_type": "execute_result",
          "data": {
            "text/plain": [
              "<bound method NDFrame.head of      Survived  Pclass  ... Parents/Children Aboard     Fare\n",
              "0           0       3  ...                       0   7.2500\n",
              "1           1       1  ...                       0  71.2833\n",
              "2           1       3  ...                       0   7.9250\n",
              "3           1       1  ...                       0  53.1000\n",
              "4           0       3  ...                       0   8.0500\n",
              "..        ...     ...  ...                     ...      ...\n",
              "882         0       2  ...                       0  13.0000\n",
              "883         1       1  ...                       0  30.0000\n",
              "884         0       3  ...                       2  23.4500\n",
              "885         1       1  ...                       0  30.0000\n",
              "886         0       3  ...                       0   7.7500\n",
              "\n",
              "[887 rows x 8 columns]>"
            ]
          },
          "metadata": {
            "tags": []
          },
          "execution_count": 4
        }
      ]
    },
    {
      "cell_type": "code",
      "metadata": {
        "id": "BEffI7vL_cE4",
        "colab_type": "code",
        "colab": {}
      },
      "source": [
        "df = df.rename(columns={'Siblings/Spouses Aboard': \"spouses_aboard\", 'Parents/Children Aboard': \"parents_children_aboard\"})"
      ],
      "execution_count": 0,
      "outputs": []
    },
    {
      "cell_type": "markdown",
      "metadata": {
        "id": "t5JTfEKAj1Rp",
        "colab_type": "text"
      },
      "source": [
        "# Turning a DF into SQL"
      ]
    },
    {
      "cell_type": "code",
      "metadata": {
        "id": "Beugtmzfim-u",
        "colab_type": "code",
        "colab": {}
      },
      "source": [
        "conn = sqlite3.connect(\"titanic.sqlite3\")\n",
        "df.to_sql(\"titanic.sqlite3\", conn)"
      ],
      "execution_count": 0,
      "outputs": []
    },
    {
      "cell_type": "markdown",
      "metadata": {
        "id": "hsh0baVIj6Cv",
        "colab_type": "text"
      },
      "source": [
        "# Query the database "
      ]
    },
    {
      "cell_type": "code",
      "metadata": {
        "id": "2ZwLx5RKjWGS",
        "colab_type": "code",
        "outputId": "1aa96a23-4dc4-400e-eadc-3bd14895193e",
        "colab": {
          "base_uri": "https://localhost:8080/",
          "height": 34
        }
      },
      "source": [
        "curs = conn.cursor()\n",
        "\n",
        "query = \"SELECT * FROM 'titanic.sqlite3'\"\n",
        "\n",
        "curs.execute(query).fetchall()[0]"
      ],
      "execution_count": 7,
      "outputs": [
        {
          "output_type": "execute_result",
          "data": {
            "text/plain": [
              "(0, 0, 3, 'Mr. Owen Harris Braund', 'male', 22.0, 1, 0, 7.25)"
            ]
          },
          "metadata": {
            "tags": []
          },
          "execution_count": 7
        }
      ]
    },
    {
      "cell_type": "code",
      "metadata": {
        "id": "SdOjg8h2VYXy",
        "colab_type": "code",
        "outputId": "3127b4dc-1a0c-473a-8d44-a15950ee7b8c",
        "colab": {
          "base_uri": "https://localhost:8080/",
          "height": 265
        }
      },
      "source": [
        "df.to_sql"
      ],
      "execution_count": 8,
      "outputs": [
        {
          "output_type": "execute_result",
          "data": {
            "text/plain": [
              "<bound method NDFrame.to_sql of      Survived  Pclass  ... parents_children_aboard     Fare\n",
              "0           0       3  ...                       0   7.2500\n",
              "1           1       1  ...                       0  71.2833\n",
              "2           1       3  ...                       0   7.9250\n",
              "3           1       1  ...                       0  53.1000\n",
              "4           0       3  ...                       0   8.0500\n",
              "..        ...     ...  ...                     ...      ...\n",
              "882         0       2  ...                       0  13.0000\n",
              "883         1       1  ...                       0  30.0000\n",
              "884         0       3  ...                       2  23.4500\n",
              "885         1       1  ...                       0  30.0000\n",
              "886         0       3  ...                       0   7.7500\n",
              "\n",
              "[887 rows x 8 columns]>"
            ]
          },
          "metadata": {
            "tags": []
          },
          "execution_count": 8
        }
      ]
    },
    {
      "cell_type": "code",
      "metadata": {
        "id": "vvmL3Q5-DfrY",
        "colab_type": "code",
        "outputId": "163cb177-f4b8-44f8-c13f-1f69127f39f9",
        "colab": {
          "base_uri": "https://localhost:8080/",
          "height": 176
        }
      },
      "source": [
        "#Count how many rows you have - it should be 249!\n",
        "df.count()"
      ],
      "execution_count": 0,
      "outputs": [
        {
          "output_type": "execute_result",
          "data": {
            "text/plain": [
              "Survived                   887\n",
              "Pclass                     887\n",
              "Name                       887\n",
              "Sex                        887\n",
              "Age                        887\n",
              "Spouses_aboard             887\n",
              "Parents_Children_Aboard    887\n",
              "Fare                       887\n",
              "dtype: int64"
            ]
          },
          "metadata": {
            "tags": []
          },
          "execution_count": 29
        }
      ]
    },
    {
      "cell_type": "markdown",
      "metadata": {
        "id": "vKEs7hHlPVaz",
        "colab_type": "text"
      },
      "source": [
        "--How many passengers survived, and how many died?\n",
        "\n",
        "--How many passengers were in each class?\n",
        "\n",
        "--How many passengers survived/died within each class?\n",
        "\n",
        "--What was the average age of survivors vs nonsurvivors?\n",
        "\n",
        "--What was the average age of each passenger class?\n",
        "\n",
        "--What was the average fare by passenger class? By survival?\n",
        "\n",
        "--How many siblings/spouses aboard on average, by passenger class? By survival?\n",
        "\n",
        "--How many parents/children aboard on average, by passenger class? By survival?\n",
        "\n",
        "--Do any passengers have the same name?\n",
        "\n",
        "--(Bonus! Hard, may require pulling and processing with Python) How many married couples were aboard the Titanic? Assume that two people (one Mr. and one Mrs.) with the same last name and with at least 1 sibling/spouse aboard are a married couple."
      ]
    },
    {
      "cell_type": "code",
      "metadata": {
        "id": "WGuTzUL-vEmm",
        "colab_type": "code",
        "colab": {}
      },
      "source": [
        "#CREATE THE TABLE\n",
        "\n",
        "table = \"\"\"(\n",
        "CREATE TABLE IF NOT EXISTS titanic_analys(\n",
        "\tid SERIAL PRIMARY KEY,\n",
        "\tsurvived int,\n",
        "\tpclass int,\n",
        "\tname varchar,\n",
        "\tsex varchar,\n",
        "\tage int,\n",
        "\tsib_spouse_count int,\n",
        "\tparent_child_count int,\n",
        "\tfare float8\n",
        ")\n",
        "\"\"\"\n",
        "\n",
        "\n"
      ],
      "execution_count": 0,
      "outputs": []
    },
    {
      "cell_type": "code",
      "metadata": {
        "id": "Sm2hNqptPUzy",
        "colab_type": "code",
        "colab": {}
      },
      "source": [
        "#How many passengers survived.\n",
        "#how many died?\n",
        "\n",
        "#total pasangers >887\n",
        "#SURVIVED > 345\n",
        "#DIED > 545\n",
        "\n",
        "query = \"SELECT COUNT (*) FROM 'titanic_passangers' WHERE survived = '0', '1'\"\n",
        "result = sqlite3_curs.execute(query).fetchall()[0][0]\n",
        "print(f'The number of Passengers survived')"
      ],
      "execution_count": 0,
      "outputs": []
    },
    {
      "cell_type": "code",
      "metadata": {
        "id": "Vl5IulGUsef5",
        "colab_type": "code",
        "colab": {}
      },
      "source": [
        "#How many passengers were in each class?\n",
        "#passangers by class 1 > 216\n",
        "#passangers by class 2 > 184\n",
        "#passangers by class 3 > 487\n",
        "\n",
        "SELECT COUNT (*) FROM titanic_passangers\n",
        "WHERE Pclass = '3';"
      ],
      "execution_count": 0,
      "outputs": []
    },
    {
      "cell_type": "code",
      "metadata": {
        "id": "rSk31pQOsn6x",
        "colab_type": "code",
        "colab": {}
      },
      "source": [
        "#How many passengers survived/died within each class?\n",
        "#passangers by class 1 survived > 136\n",
        "#passangers by class 1 died > 80\n",
        "\n",
        "#passangers by class 2 survived > 87\n",
        "#passangers by class 2 died > 97\n",
        "\n",
        "#passangers by class 3 survived > 119\n",
        "#passangers by class 3 died > 368\n",
        "\n",
        "SELECT COUNT (*) FROM titanic_passangers\n",
        "\tWHERE Pclass = '3'\n",
        "\tAND survived = '1';"
      ],
      "execution_count": 0,
      "outputs": []
    },
    {
      "cell_type": "code",
      "metadata": {
        "id": "ra0h8nS3s2SR",
        "colab_type": "code",
        "colab": {}
      },
      "source": [
        "#What was the average age of survivors vs nonsurvivors?\n",
        "#average age by survivors > 28.41\n",
        "#average age by nonsurvivors > 30.15\n",
        "\n",
        "SELECT AVG(age) \n",
        "FROM titanic_passangers \n",
        "WHERE survived = '0'"
      ],
      "execution_count": 0,
      "outputs": []
    },
    {
      "cell_type": "code",
      "metadata": {
        "id": "nb6Li7rus9UK",
        "colab_type": "code",
        "colab": {}
      },
      "source": [
        "#What was the average age of each passenger class?\n",
        "#average age by class 1 > 38.79\n",
        "#average age by class 2 > 29.88\n",
        "#average age by class 3 > 25.20\n",
        "\n",
        "SELECT AVG(age) \n",
        "FROM titanic_passangers \n",
        "WHERE pclass = '3'"
      ],
      "execution_count": 0,
      "outputs": []
    },
    {
      "cell_type": "code",
      "metadata": {
        "id": "j6tnvwlotGlP",
        "colab_type": "code",
        "colab": {}
      },
      "source": [
        "#What was the average fare by passenger class? By survival?\n",
        "\n",
        "#average fare by class by survival 1 > 35.96\n",
        "#average fare by class by survival 2 > 26.18\n",
        "#average fare by class by survival 3 > 21.41\n",
        "\n",
        "SELECT AVG(age) \n",
        "\tFROM titanic_passangers \n",
        "\tWHERE pclass = '3'\n",
        "\tAND survived = '1'"
      ],
      "execution_count": 0,
      "outputs": []
    },
    {
      "cell_type": "code",
      "metadata": {
        "id": "k273CsmGtPsW",
        "colab_type": "code",
        "colab": {}
      },
      "source": [
        "#How many siblings/spouses aboard on average, by passenger class? By survival?\n",
        "\n",
        "#average spouse aboard by passenger by survival 1 >  0.4926\n",
        "#average spouse aboard by passenger by survival 2 >  0.4942\n",
        "#average spouse aboard by passenger by survival 3 >  0.4396\n",
        "\n",
        "SELECT AVG(spouses_aboard) \n",
        "\tFROM titanic_passangers \n",
        "\tWHERE pclass = '3'\n",
        "\tAND survived = '1'"
      ],
      "execution_count": 0,
      "outputs": []
    },
    {
      "cell_type": "code",
      "metadata": {
        "id": "e6pfptsBtVtT",
        "colab_type": "code",
        "colab": {}
      },
      "source": [
        "#How many parents/children aboard on average, by passenger class? By survival?\n",
        "\n",
        "#average arents_children_aboard by passenger by survival 1 >  0.3897\n",
        "#average arents_children_aboard by passenger by survival 2 >  0.64\n",
        "#average arents_children_aboard by passenger by survival 3 >  0.4220\n",
        "\n",
        "SELECT AVG(parents_children_aboard) \n",
        "\tFROM titanic_passangers \n",
        "\tWHERE pclass = '3'\n",
        "\tAND survived = '1'"
      ],
      "execution_count": 0,
      "outputs": []
    },
    {
      "cell_type": "code",
      "metadata": {
        "id": "Q1vf_NS6tgAo",
        "colab_type": "code",
        "colab": {}
      },
      "source": [
        "#Do any passengers have the same name?\n",
        "#passengers by same name > 202\n",
        "\n",
        "SELECT name, COUNT(NAME)\n",
        "\tFROM titanic_passangers\n",
        "\tGROUP BY NAME\n",
        "\tORDER BY NAME\n",
        "\t"
      ],
      "execution_count": 0,
      "outputs": []
    },
    {
      "cell_type": "code",
      "metadata": {
        "id": "BcrAukIOtozq",
        "colab_type": "code",
        "colab": {}
      },
      "source": [
        "#(Bonus! Hard, may require pulling and processing with Python) How many married couples were aboard the Titanic? Assume that two people (one Mr. and one Mrs.) \n",
        "#with the same last name and with at least 1 sibling/spouse aboard are a married couple.\n",
        "\n",
        "\n",
        "#how many married by Mr and Mrs. > 214  \n",
        "\n",
        "#spouse aboard (4) > 18\n",
        "#spouse aboard (3) > 16\n",
        "#spouse aboard (1) > 209\n",
        "#spouse aboard (0) > 604\n",
        "\n",
        "#parent board (4) > = 4\n",
        "#parent board (1) > = 118\n",
        "#parent board (2) > = 80\n",
        "#parent board (0) > = 674\n",
        "\n",
        "\n",
        "SELECT COUNT(spouses_aboard) \n",
        "FROM titanic_passangers \n",
        "WHERE spouses_aboard = '4'\n",
        "\t\n",
        "SELECT COUNT(parents_children_aboard) \n",
        "FROM titanic_passangers \n",
        "WHERE parents_children_aboard = '4'\n",
        "\n",
        "SELECT name, COUNT(NAME)\n",
        "\tFROM titanic_passangers\t\n",
        "\tGROUP BY NAME\n",
        "\tORDER BY NAME = 'Mirs'\n",
        "\t\n",
        "SELECT *\n",
        "\tFROM titanic_passangers\n",
        "\tORDER BY NAME, NAME;\n",
        "\n",
        "  \n"
      ],
      "execution_count": 0,
      "outputs": []
    },
    {
      "cell_type": "code",
      "metadata": {
        "id": "3ZE-fG7u_oru",
        "colab_type": "code",
        "outputId": "82ed8732-13f4-4279-8053-85077c3b6e94",
        "colab": {
          "base_uri": "https://localhost:8080/",
          "height": 890
        }
      },
      "source": [
        "df"
      ],
      "execution_count": 0,
      "outputs": [
        {
          "output_type": "execute_result",
          "data": {
            "text/html": [
              "<div>\n",
              "<style scoped>\n",
              "    .dataframe tbody tr th:only-of-type {\n",
              "        vertical-align: middle;\n",
              "    }\n",
              "\n",
              "    .dataframe tbody tr th {\n",
              "        vertical-align: top;\n",
              "    }\n",
              "\n",
              "    .dataframe thead th {\n",
              "        text-align: right;\n",
              "    }\n",
              "</style>\n",
              "<table border=\"1\" class=\"dataframe\">\n",
              "  <thead>\n",
              "    <tr style=\"text-align: right;\">\n",
              "      <th></th>\n",
              "      <th>Survived</th>\n",
              "      <th>Pclass</th>\n",
              "      <th>Name</th>\n",
              "      <th>Sex</th>\n",
              "      <th>Age</th>\n",
              "      <th>Spouses_aboard</th>\n",
              "      <th>Parents_Children_Aboard</th>\n",
              "      <th>Fare</th>\n",
              "    </tr>\n",
              "  </thead>\n",
              "  <tbody>\n",
              "    <tr>\n",
              "      <th>0</th>\n",
              "      <td>0</td>\n",
              "      <td>3</td>\n",
              "      <td>Mr. Owen Harris Braund</td>\n",
              "      <td>male</td>\n",
              "      <td>22.0</td>\n",
              "      <td>1</td>\n",
              "      <td>0</td>\n",
              "      <td>7.2500</td>\n",
              "    </tr>\n",
              "    <tr>\n",
              "      <th>1</th>\n",
              "      <td>1</td>\n",
              "      <td>1</td>\n",
              "      <td>Mrs. John Bradley (Florence Briggs Thayer) Cum...</td>\n",
              "      <td>female</td>\n",
              "      <td>38.0</td>\n",
              "      <td>1</td>\n",
              "      <td>0</td>\n",
              "      <td>71.2833</td>\n",
              "    </tr>\n",
              "    <tr>\n",
              "      <th>2</th>\n",
              "      <td>1</td>\n",
              "      <td>3</td>\n",
              "      <td>Miss. Laina Heikkinen</td>\n",
              "      <td>female</td>\n",
              "      <td>26.0</td>\n",
              "      <td>0</td>\n",
              "      <td>0</td>\n",
              "      <td>7.9250</td>\n",
              "    </tr>\n",
              "    <tr>\n",
              "      <th>3</th>\n",
              "      <td>1</td>\n",
              "      <td>1</td>\n",
              "      <td>Mrs. Jacques Heath (Lily May Peel) Futrelle</td>\n",
              "      <td>female</td>\n",
              "      <td>35.0</td>\n",
              "      <td>1</td>\n",
              "      <td>0</td>\n",
              "      <td>53.1000</td>\n",
              "    </tr>\n",
              "    <tr>\n",
              "      <th>4</th>\n",
              "      <td>0</td>\n",
              "      <td>3</td>\n",
              "      <td>Mr. William Henry Allen</td>\n",
              "      <td>male</td>\n",
              "      <td>35.0</td>\n",
              "      <td>0</td>\n",
              "      <td>0</td>\n",
              "      <td>8.0500</td>\n",
              "    </tr>\n",
              "    <tr>\n",
              "      <th>...</th>\n",
              "      <td>...</td>\n",
              "      <td>...</td>\n",
              "      <td>...</td>\n",
              "      <td>...</td>\n",
              "      <td>...</td>\n",
              "      <td>...</td>\n",
              "      <td>...</td>\n",
              "      <td>...</td>\n",
              "    </tr>\n",
              "    <tr>\n",
              "      <th>882</th>\n",
              "      <td>0</td>\n",
              "      <td>2</td>\n",
              "      <td>Rev. Juozas Montvila</td>\n",
              "      <td>male</td>\n",
              "      <td>27.0</td>\n",
              "      <td>0</td>\n",
              "      <td>0</td>\n",
              "      <td>13.0000</td>\n",
              "    </tr>\n",
              "    <tr>\n",
              "      <th>883</th>\n",
              "      <td>1</td>\n",
              "      <td>1</td>\n",
              "      <td>Miss. Margaret Edith Graham</td>\n",
              "      <td>female</td>\n",
              "      <td>19.0</td>\n",
              "      <td>0</td>\n",
              "      <td>0</td>\n",
              "      <td>30.0000</td>\n",
              "    </tr>\n",
              "    <tr>\n",
              "      <th>884</th>\n",
              "      <td>0</td>\n",
              "      <td>3</td>\n",
              "      <td>Miss. Catherine Helen Johnston</td>\n",
              "      <td>female</td>\n",
              "      <td>7.0</td>\n",
              "      <td>1</td>\n",
              "      <td>2</td>\n",
              "      <td>23.4500</td>\n",
              "    </tr>\n",
              "    <tr>\n",
              "      <th>885</th>\n",
              "      <td>1</td>\n",
              "      <td>1</td>\n",
              "      <td>Mr. Karl Howell Behr</td>\n",
              "      <td>male</td>\n",
              "      <td>26.0</td>\n",
              "      <td>0</td>\n",
              "      <td>0</td>\n",
              "      <td>30.0000</td>\n",
              "    </tr>\n",
              "    <tr>\n",
              "      <th>886</th>\n",
              "      <td>0</td>\n",
              "      <td>3</td>\n",
              "      <td>Mr. Patrick Dooley</td>\n",
              "      <td>male</td>\n",
              "      <td>32.0</td>\n",
              "      <td>0</td>\n",
              "      <td>0</td>\n",
              "      <td>7.7500</td>\n",
              "    </tr>\n",
              "  </tbody>\n",
              "</table>\n",
              "<p>887 rows × 8 columns</p>\n",
              "</div>"
            ],
            "text/plain": [
              "     Survived  Pclass  ... Parents_Children_Aboard     Fare\n",
              "0           0       3  ...                       0   7.2500\n",
              "1           1       1  ...                       0  71.2833\n",
              "2           1       3  ...                       0   7.9250\n",
              "3           1       1  ...                       0  53.1000\n",
              "4           0       3  ...                       0   8.0500\n",
              "..        ...     ...  ...                     ...      ...\n",
              "882         0       2  ...                       0  13.0000\n",
              "883         1       1  ...                       0  30.0000\n",
              "884         0       3  ...                       2  23.4500\n",
              "885         1       1  ...                       0  30.0000\n",
              "886         0       3  ...                       0   7.7500\n",
              "\n",
              "[887 rows x 8 columns]"
            ]
          },
          "metadata": {
            "tags": []
          },
          "execution_count": 21
        }
      ]
    }
  ]
}