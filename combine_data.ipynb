{
 "nbformat": 4,
 "nbformat_minor": 2,
 "metadata": {
  "language_info": {
   "name": "python",
   "codemirror_mode": {
    "name": "ipython",
    "version": 3
   },
   "version": "3.7.4-final"
  },
  "orig_nbformat": 2,
  "file_extension": ".py",
  "mimetype": "text/x-python",
  "name": "python",
  "npconvert_exporter": "python",
  "pygments_lexer": "ipython3",
  "version": 3,
  "kernelspec": {
   "name": "python37464bitdatasciencepipenv9ca383bc1a554c08ad61645815bdfa0d",
   "display_name": "Python 3.7.4 64-bit ('data-science': pipenv)"
  }
 },
 "cells": [
  {
   "cell_type": "code",
   "execution_count": 3,
   "metadata": {},
   "outputs": [],
   "source": [
    "import sys\n",
    "import pandas as pd\n",
    "import numpy as np"
   ]
  },
  {
   "cell_type": "code",
   "execution_count": 5,
   "metadata": {},
   "outputs": [],
   "source": [
    "df_19 = pd.read_csv('./data/SpotifyAudioFeaturesApril2019.csv')\n",
    "df_18 = pd.read_csv('./data/SpotifyAudioFeaturesNov2018.csv')"
   ]
  },
  {
   "cell_type": "code",
   "execution_count": 6,
   "metadata": {},
   "outputs": [
    {
     "name": "stdout",
     "output_type": "stream",
     "text": "(130663, 17) (116372, 17)\n"
    }
   ],
   "source": [
    "print(df_19.shape, df_18.shape)"
   ]
  },
  {
   "cell_type": "code",
   "execution_count": 7,
   "metadata": {},
   "outputs": [
    {
     "name": "stdout",
     "output_type": "stream",
     "text": "(247035, 17)\n"
    }
   ],
   "source": [
    "df = pd.concat([df_19, df_18], ignore_index=True)\n",
    "print(df.shape)"
   ]
  },
  {
   "cell_type": "code",
   "execution_count": 8,
   "metadata": {},
   "outputs": [
    {
     "name": "stdout",
     "output_type": "stream",
     "text": "artist_name                track_id  \\\n0          YG  2RM4jf1Xa9zPgMGRDiht8O   \n1          YG  1tHDG53xJNGsItRA3vfVgs   \n2       R3HAB  6Wosx2euFPMT14UXiWudMy   \n3  Chris Cooq  3J2Jpw61sO7l6Hc7qdYV91   \n4  Chris Cooq  2jbYvQCyPgX3CdmAzeVeuS   \n\n                                       track_name  acousticness  danceability  \\\n0  Big Bank feat. 2 Chainz, Big Sean, Nicki Minaj      0.005820         0.743   \n1                    BAND DRUM (feat. A$AP Rocky)      0.024400         0.846   \n2                                   Radio Silence      0.025000         0.603   \n3                                         Lactose      0.029400         0.800   \n4                             Same - Original mix      0.000035         0.783   \n\n   duration_ms  energy  instrumentalness  key  liveness  loudness  mode  \\\n0       238373   0.339             0.000    1    0.0812    -7.678     1   \n1       214800   0.557             0.000    8    0.2860    -7.259     1   \n2       138913   0.723             0.000    9    0.0824    -5.890     0   \n3       125381   0.579             0.912    5    0.0994   -12.118     0   \n4       124016   0.792             0.878    7    0.0332   -10.277     1   \n\n   speechiness    tempo  time_signature  valence  popularity  \n0       0.4090  203.927               4    0.118          15  \n1       0.4570  159.009               4    0.371           0  \n2       0.0454  114.966               4    0.382          56  \n3       0.0701  123.003               4    0.641           0  \n4       0.0661  120.047               4    0.928           0  \n"
    }
   ],
   "source": [
    "print(df.head())"
   ]
  },
  {
   "cell_type": "code",
   "execution_count": 9,
   "metadata": {},
   "outputs": [
    {
     "data": {
      "text/html": "<div>\n<style scoped>\n    .dataframe tbody tr th:only-of-type {\n        vertical-align: middle;\n    }\n\n    .dataframe tbody tr th {\n        vertical-align: top;\n    }\n\n    .dataframe thead th {\n        text-align: right;\n    }\n</style>\n<table border=\"1\" class=\"dataframe\">\n  <thead>\n    <tr style=\"text-align: right;\">\n      <th></th>\n      <th>artist_name</th>\n      <th>track_id</th>\n      <th>track_name</th>\n      <th>acousticness</th>\n      <th>danceability</th>\n      <th>duration_ms</th>\n      <th>energy</th>\n      <th>instrumentalness</th>\n      <th>key</th>\n      <th>liveness</th>\n      <th>loudness</th>\n      <th>mode</th>\n      <th>speechiness</th>\n      <th>tempo</th>\n      <th>time_signature</th>\n      <th>valence</th>\n      <th>popularity</th>\n    </tr>\n  </thead>\n  <tbody>\n    <tr>\n      <th>130712</th>\n      <td>Your Smith</td>\n      <td>5Y7DSov75Ic5viePFoD0WX</td>\n      <td>The Spot</td>\n      <td>0.0617</td>\n      <td>0.935</td>\n      <td>171383</td>\n      <td>0.756</td>\n      <td>0.000008</td>\n      <td>4</td>\n      <td>0.1200</td>\n      <td>-6.957</td>\n      <td>1</td>\n      <td>0.0840</td>\n      <td>112.045</td>\n      <td>4</td>\n      <td>0.9610</td>\n      <td>48</td>\n    </tr>\n    <tr>\n      <th>130713</th>\n      <td>Snow Patrol</td>\n      <td>0aYzQjr1hq0qJwp45diy5M</td>\n      <td>Heal Me</td>\n      <td>0.1220</td>\n      <td>0.552</td>\n      <td>241160</td>\n      <td>0.789</td>\n      <td>0.000005</td>\n      <td>9</td>\n      <td>0.0874</td>\n      <td>-5.449</td>\n      <td>1</td>\n      <td>0.0242</td>\n      <td>93.938</td>\n      <td>4</td>\n      <td>0.3490</td>\n      <td>53</td>\n    </tr>\n    <tr>\n      <th>130714</th>\n      <td>Dirty Projectors</td>\n      <td>7B1he5MaIXjreL2R4qOa6h</td>\n      <td>Blue Bird</td>\n      <td>0.5200</td>\n      <td>0.530</td>\n      <td>229333</td>\n      <td>0.521</td>\n      <td>0.028900</td>\n      <td>8</td>\n      <td>0.2090</td>\n      <td>-7.939</td>\n      <td>0</td>\n      <td>0.1520</td>\n      <td>117.259</td>\n      <td>3</td>\n      <td>0.5290</td>\n      <td>37</td>\n    </tr>\n    <tr>\n      <th>130721</th>\n      <td>UNB</td>\n      <td>4SiGRgJVUUDpMbW6LxJRCH</td>\n      <td>BLACK HEART</td>\n      <td>0.0198</td>\n      <td>0.713</td>\n      <td>185969</td>\n      <td>0.937</td>\n      <td>0.000000</td>\n      <td>5</td>\n      <td>0.5700</td>\n      <td>-2.107</td>\n      <td>1</td>\n      <td>0.1310</td>\n      <td>125.969</td>\n      <td>4</td>\n      <td>0.7280</td>\n      <td>47</td>\n    </tr>\n    <tr>\n      <th>130726</th>\n      <td>Southside</td>\n      <td>7H4KuOHwoKEgPla1yHhq1N</td>\n      <td>Some Nights</td>\n      <td>0.0978</td>\n      <td>0.404</td>\n      <td>198553</td>\n      <td>0.926</td>\n      <td>0.000000</td>\n      <td>4</td>\n      <td>0.1020</td>\n      <td>-4.986</td>\n      <td>0</td>\n      <td>0.7340</td>\n      <td>85.960</td>\n      <td>4</td>\n      <td>0.2110</td>\n      <td>30</td>\n    </tr>\n    <tr>\n      <th>...</th>\n      <td>...</td>\n      <td>...</td>\n      <td>...</td>\n      <td>...</td>\n      <td>...</td>\n      <td>...</td>\n      <td>...</td>\n      <td>...</td>\n      <td>...</td>\n      <td>...</td>\n      <td>...</td>\n      <td>...</td>\n      <td>...</td>\n      <td>...</td>\n      <td>...</td>\n      <td>...</td>\n      <td>...</td>\n    </tr>\n    <tr>\n      <th>246955</th>\n      <td>Mau y Ricky</td>\n      <td>0ZrDGZ2g2nZXz4rjO3oKrl</td>\n      <td>22</td>\n      <td>0.0124</td>\n      <td>0.760</td>\n      <td>161213</td>\n      <td>0.773</td>\n      <td>0.000049</td>\n      <td>3</td>\n      <td>0.2940</td>\n      <td>-6.288</td>\n      <td>0</td>\n      <td>0.1080</td>\n      <td>169.957</td>\n      <td>4</td>\n      <td>0.7660</td>\n      <td>61</td>\n    </tr>\n    <tr>\n      <th>246998</th>\n      <td>Appleby</td>\n      <td>6inzFkThegOcsjxWgn0AP8</td>\n      <td>Young Lost Love</td>\n      <td>0.9450</td>\n      <td>0.292</td>\n      <td>239658</td>\n      <td>0.321</td>\n      <td>0.389000</td>\n      <td>11</td>\n      <td>0.6910</td>\n      <td>-10.840</td>\n      <td>1</td>\n      <td>0.0394</td>\n      <td>75.959</td>\n      <td>4</td>\n      <td>0.0393</td>\n      <td>45</td>\n    </tr>\n    <tr>\n      <th>247010</th>\n      <td>Wifisfuneral</td>\n      <td>2LAeLlkFhKXUlQkALlpwdu</td>\n      <td>Knots (feat. Jay Critch)</td>\n      <td>0.2440</td>\n      <td>0.903</td>\n      <td>202000</td>\n      <td>0.716</td>\n      <td>0.000000</td>\n      <td>6</td>\n      <td>0.1130</td>\n      <td>-7.733</td>\n      <td>0</td>\n      <td>0.4090</td>\n      <td>150.059</td>\n      <td>4</td>\n      <td>0.8540</td>\n      <td>47</td>\n    </tr>\n    <tr>\n      <th>247014</th>\n      <td>Nicky Romero</td>\n      <td>3OxdvhRbkVmun78Rbf8RN2</td>\n      <td>Rise (ft. Matluck) - Acoustic</td>\n      <td>0.7800</td>\n      <td>0.795</td>\n      <td>176927</td>\n      <td>0.216</td>\n      <td>0.000000</td>\n      <td>7</td>\n      <td>0.0917</td>\n      <td>-9.313</td>\n      <td>0</td>\n      <td>0.0504</td>\n      <td>111.906</td>\n      <td>4</td>\n      <td>0.5200</td>\n      <td>25</td>\n    </tr>\n    <tr>\n      <th>247018</th>\n      <td>Dizzy</td>\n      <td>1J18KjEDSN082WpmwKo2wl</td>\n      <td>Bleachers</td>\n      <td>0.4380</td>\n      <td>0.530</td>\n      <td>262760</td>\n      <td>0.716</td>\n      <td>0.023000</td>\n      <td>7</td>\n      <td>0.3910</td>\n      <td>-6.594</td>\n      <td>1</td>\n      <td>0.0491</td>\n      <td>179.976</td>\n      <td>3</td>\n      <td>0.3290</td>\n      <td>45</td>\n    </tr>\n  </tbody>\n</table>\n<p>24891 rows × 17 columns</p>\n</div>",
      "text/plain": "             artist_name                track_id  \\\n130712        Your Smith  5Y7DSov75Ic5viePFoD0WX   \n130713       Snow Patrol  0aYzQjr1hq0qJwp45diy5M   \n130714  Dirty Projectors  7B1he5MaIXjreL2R4qOa6h   \n130721               UNB  4SiGRgJVUUDpMbW6LxJRCH   \n130726         Southside  7H4KuOHwoKEgPla1yHhq1N   \n...                  ...                     ...   \n246955       Mau y Ricky  0ZrDGZ2g2nZXz4rjO3oKrl   \n246998           Appleby  6inzFkThegOcsjxWgn0AP8   \n247010      Wifisfuneral  2LAeLlkFhKXUlQkALlpwdu   \n247014      Nicky Romero  3OxdvhRbkVmun78Rbf8RN2   \n247018             Dizzy  1J18KjEDSN082WpmwKo2wl   \n\n                           track_name  acousticness  danceability  \\\n130712                       The Spot        0.0617         0.935   \n130713                        Heal Me        0.1220         0.552   \n130714                      Blue Bird        0.5200         0.530   \n130721                    BLACK HEART        0.0198         0.713   \n130726                    Some Nights        0.0978         0.404   \n...                               ...           ...           ...   \n246955                             22        0.0124         0.760   \n246998                Young Lost Love        0.9450         0.292   \n247010       Knots (feat. Jay Critch)        0.2440         0.903   \n247014  Rise (ft. Matluck) - Acoustic        0.7800         0.795   \n247018                      Bleachers        0.4380         0.530   \n\n        duration_ms  energy  instrumentalness  key  liveness  loudness  mode  \\\n130712       171383   0.756          0.000008    4    0.1200    -6.957     1   \n130713       241160   0.789          0.000005    9    0.0874    -5.449     1   \n130714       229333   0.521          0.028900    8    0.2090    -7.939     0   \n130721       185969   0.937          0.000000    5    0.5700    -2.107     1   \n130726       198553   0.926          0.000000    4    0.1020    -4.986     0   \n...             ...     ...               ...  ...       ...       ...   ...   \n246955       161213   0.773          0.000049    3    0.2940    -6.288     0   \n246998       239658   0.321          0.389000   11    0.6910   -10.840     1   \n247010       202000   0.716          0.000000    6    0.1130    -7.733     0   \n247014       176927   0.216          0.000000    7    0.0917    -9.313     0   \n247018       262760   0.716          0.023000    7    0.3910    -6.594     1   \n\n        speechiness    tempo  time_signature  valence  popularity  \n130712       0.0840  112.045               4   0.9610          48  \n130713       0.0242   93.938               4   0.3490          53  \n130714       0.1520  117.259               3   0.5290          37  \n130721       0.1310  125.969               4   0.7280          47  \n130726       0.7340   85.960               4   0.2110          30  \n...             ...      ...             ...      ...         ...  \n246955       0.1080  169.957               4   0.7660          61  \n246998       0.0394   75.959               4   0.0393          45  \n247010       0.4090  150.059               4   0.8540          47  \n247014       0.0504  111.906               4   0.5200          25  \n247018       0.0491  179.976               3   0.3290          45  \n\n[24891 rows x 17 columns]"
     },
     "execution_count": 9,
     "metadata": {},
     "output_type": "execute_result"
    }
   ],
   "source": [
    "df[df.duplicated()]"
   ]
  },
  {
   "cell_type": "code",
   "execution_count": 10,
   "metadata": {},
   "outputs": [],
   "source": [
    "df_no_dup = df[~df.duplicated(keep='first')]"
   ]
  },
  {
   "cell_type": "code",
   "execution_count": 11,
   "metadata": {},
   "outputs": [
    {
     "name": "stdout",
     "output_type": "stream",
     "text": "(222144, 17)\n"
    }
   ],
   "source": [
    "print(df_no_dup.shape)"
   ]
  },
  {
   "cell_type": "code",
   "execution_count": 14,
   "metadata": {},
   "outputs": [],
   "source": [
    "def save_data_frame_as_csv(df=None, file=None):\n",
    "    \"\"\"\n",
    "    Save a Pandas DataFrame to CSV format.\n",
    "    \"\"\"\n",
    "    try:\n",
    "        if not file.endswith('.csv'):\n",
    "            file += '.csv'\n",
    "        df.to_csv(file, index=False)\n",
    "        print(f'DataFrame saved as: {file}')\n",
    "    except Exception as e:\n",
    "        print(\"DataFrame couldn't be saved: \", sys.exc_info()[0])\n",
    "        raise"
   ]
  },
  {
   "cell_type": "code",
   "execution_count": 15,
   "metadata": {},
   "outputs": [
    {
     "name": "stdout",
     "output_type": "stream",
     "text": "DataFrame saved as: ./data/merged_data.csv\n"
    }
   ],
   "source": [
    "save_data_frame_as_csv(df_no_dup, './data/merged_data.csv')"
   ]
  },
  {
   "cell_type": "code",
   "execution_count": 16,
   "metadata": {},
   "outputs": [],
   "source": [
    "def save_data_frame_as_json(df=None, file=None, orient='records'):\n",
    "    \"\"\"\n",
    "    Save a Pandas DataFrame to JSON format.\n",
    "    \"\"\"\n",
    "    try:\n",
    "        if not file.endswith('.json'):\n",
    "            file += '.json'\n",
    "        df.to_json(file, orient=orient)\n",
    "        print(f'DataFrame saved as: {file}')\n",
    "    except Exception as e:\n",
    "        print(\"DataFrame couldn't be saved: \", sys.exc_info()[0])\n",
    "        raise"
   ]
  },
  {
   "cell_type": "code",
   "execution_count": 18,
   "metadata": {},
   "outputs": [
    {
     "name": "stdout",
     "output_type": "stream",
     "text": "DataFrame saved as: ./data/merged_data.json\n"
    }
   ],
   "source": [
    "save_data_frame_as_json(df_no_dup, './data/merged_data.json', orient='records')"
   ]
  },
  {
   "cell_type": "code",
   "execution_count": null,
   "metadata": {},
   "outputs": [],
   "source": []
  }
 ]
}