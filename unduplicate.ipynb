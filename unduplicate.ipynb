{
 "cells": [
  {
   "cell_type": "code",
   "execution_count": 1,
   "metadata": {},
   "outputs": [],
   "source": [
    "\n",
    "import sys\n",
    "import pandas as pd\n",
    "import numpy as np"
   ]
  },
  {
   "cell_type": "code",
   "execution_count": 2,
   "metadata": {},
   "outputs": [],
   "source": [
    "df_19 = pd.read_csv('./data/SpotifyAudioFeaturesApril2019.csv')\n",
    "df_18 = pd.read_csv('./data/SpotifyAudioFeaturesNov2018.csv')"
   ]
  },
  {
   "cell_type": "code",
   "execution_count": 3,
   "metadata": {},
   "outputs": [
    {
     "name": "stdout",
     "output_type": "stream",
     "text": [
      "(247035, 17)\n"
     ]
    }
   ],
   "source": [
    "df = pd.concat([df_19, df_18], ignore_index=True)\n",
    "print(df.shape)"
   ]
  },
  {
   "cell_type": "code",
   "execution_count": 4,
   "metadata": {},
   "outputs": [],
   "source": [
    "df_no_dup = df[~df.duplicated(keep='first')]"
   ]
  },
  {
   "cell_type": "code",
   "execution_count": 5,
   "metadata": {},
   "outputs": [],
   "source": [
    "df_reduced = df_no_dup.drop_duplicates(subset='track_id', keep='first')"
   ]
  },
  {
   "cell_type": "code",
   "execution_count": 6,
   "metadata": {},
   "outputs": [],
   "source": [
    "def save_data_frame_as_csv(df=None, file=None):\n",
    "    \"\"\"\n",
    "    Save a Pandas DataFrame to CSV format.\n",
    "    \"\"\"\n",
    "    try:\n",
    "        if not file.endswith('.csv'):\n",
    "            file += '.csv'\n",
    "        df.to_csv(file, index=False)\n",
    "        print(f'DataFrame saved as: {file}')\n",
    "    except Exception as e:\n",
    "        print(\"DataFrame couldn't be saved: \", sys.exc_info()[0])\n",
    "        raise"
   ]
  },
  {
   "cell_type": "code",
   "execution_count": 7,
   "metadata": {},
   "outputs": [
    {
     "name": "stdout",
     "output_type": "stream",
     "text": [
      "DataFrame saved as: ./data/merged_data.csv\n"
     ]
    }
   ],
   "source": [
    "save_data_frame_as_csv(df_reduced, './data/merged_data.csv')"
   ]
  }
 ],
 "metadata": {
  "kernelspec": {
   "display_name": "U4-S3-DL (Python3)",
   "language": "python",
   "name": "u4-s3-dl"
  },
  "language_info": {
   "codemirror_mode": {
    "name": "ipython",
    "version": 3
   },
   "file_extension": ".py",
   "mimetype": "text/x-python",
   "name": "python",
   "nbconvert_exporter": "python",
   "pygments_lexer": "ipython3",
   "version": "3.7.0"
  }
 },
 "nbformat": 4,
 "nbformat_minor": 4
}
